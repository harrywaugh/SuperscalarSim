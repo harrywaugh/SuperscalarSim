{
 "cells": [
  {
   "cell_type": "markdown",
   "metadata": {},
   "source": [
    "# Processor Simulator Analysis"
   ]
  },
  {
   "cell_type": "markdown",
   "metadata": {},
   "source": [
    "### Load modules and define graph functions"
   ]
  },
  {
   "cell_type": "code",
   "execution_count": 9,
   "metadata": {},
   "outputs": [],
   "source": [
    "from matplotlib import pyplot as plt\n",
    "import numpy as np\n",
    "import matplotlib.pyplot as plt\n",
    "import matplotlib.cm as cm\n",
    "import matplotlib\n",
    "import brewer2mpl\n",
    "import os\n",
    "\n",
    "\n",
    "# from matplotlib import rc\n",
    "# rc('font',**{'family':'sans-serif','sans-serif':['Helvetica']})\n",
    "# rc('text', usetex=True)\n",
    "\n",
    "def remove_splines(ax, spl):\n",
    "    for s in spl:\n",
    "        ax.spines[s].set_visible(False)  \n",
    "\n",
    "def modify_splines(ax, lwd, col):    \n",
    "    for s in ['bottom', 'left','top','right']:\n",
    "        ax.spines[s].set_linewidth(lwd)\n",
    "        ax.spines[s].set_color(col)    \n",
    "\n",
    "def ggplot(ax):\n",
    "    \n",
    "    modify_splines(ax, lwd=0.75, col='0.8')\n",
    "    remove_splines(ax, ['top','right'])\n",
    "    \n",
    "    ax.patch.set_facecolor('0.93')\n",
    "    ax.yaxis.grid(True, 'major', color='0.98', linestyle='-', linewidth=1.0)\n",
    "    \n",
    "    ax.set_axisbelow(True)   \n",
    "    \n",
    "    \n",
    "def autolabel(rects):\n",
    "    \"\"\"\n",
    "    Attach a text label above each bar displaying its height\n",
    "    \"\"\"\n",
    "    for rect in rects:\n",
    "        height = rect.get_height()\n",
    "        \n",
    "        if (height != 0):\n",
    "            ax.text(rect.get_x() + rect.get_width()/2., 1.015*height,\n",
    "                    '%.1f' % float(height),\n",
    "                    ha='center', va='bottom', fontsize=12)"
   ]
  },
  {
   "cell_type": "markdown",
   "metadata": {},
   "source": [
    "### Load data from simulator log files"
   ]
  },
  {
   "cell_type": "code",
   "execution_count": 32,
   "metadata": {
    "scrolled": false
   },
   "outputs": [
    {
     "name": "stdout",
     "output_type": "stream",
     "text": [
      "{'Simulator Type': 'SERIAL', 'Time Elapsed': [0.0, 0.01, 0.41, 0.02, 0.0, 0.0, 0.0, 0.42, 0.0], 'Executed Instructions': [899.0, 4002.0, 115601.0, 5009.0, 43.0, 52.0, 65.0, 115598.0, 9.0], 'Total Cycles': [3201.0, 12006.0, 405689.0, 15029.0, 161.0, 158.0, 199.0, 405698.0, 33.0], 'Instructions per Cycle': [0.28, 0.33, 0.28, 0.33, 0.27, 0.33, 0.33, 0.28, 0.27], 'Instructions per Second': [312478.28, 283147.03, 284838.84, 270947.12, 234972.69, 304093.56, 317073.16, 276504.59, 191489.36], 'Cycles spent Waiting for Memory Access': [504.0, 0.0, 58886.0, 2.0, 32.0, 2.0, 4.0, 58904.0, 6.0], 'Proportion of Program spent Waiting for Memory Access': [0.16, 0.0, 0.15, 0.0, 0.2, 0.01, 0.02, 0.15, 0.18]}\n",
      "{'Simulator Type': 'PIPELINED', 'Time Elapsed': [0.0, 0.02, 0.5, 0.02, 0.0, 0.0, 0.0, 0.48, 0.0], 'Executed Instructions': [899.0, 4002.0, 115601.0, 5009.0, 43.0, 52.0, 65.0, 115598.0, 9.0], 'Total Cycles': [1675.0, 6000.0, 213571.0, 5015.0, 87.0, 78.0, 141.0, 213586.0, 17.0], 'Instructions per Cycle': [0.54, 0.67, 0.54, 1.0, 0.49, 0.67, 0.46, 0.54, 0.53], 'Instructions per Second': [253382.19, 237662.58, 229689.28, 302074.56, 222797.92, 253658.53, 191176.47, 238950.92, 225000.0], 'Cycles spent Waiting for Memory Access': [504.0, 0.0, 58886.0, 2.0, 32.0, 2.0, 4.0, 58904.0, 6.0], 'Proportion of Program spent Waiting for Memory Access': [0.3, 0.0, 0.28, 0.0, 0.37, 0.03, 0.03, 0.28, 0.35]}\n",
      "{'Simulator Type': 'SUPERSCALAR', 'Fetch Instructions per Cycle': '6', 'Decode Instructions per Cycle': '6', 'Issue Instructions per Cycle': '6', 'Commit Instructions per Cycle': '6', 'Load/Store Units': '1', 'Load/Store Reservation Station Size': '8', 'Branch Units': '1', 'Branch Reservation Station Size': '8', 'ALU Units': '2', 'ALU Reservation Station Size': '16', 'Reorder Buffer Size': '32', 'Time Elapsed': [0.03, 0.03, 4.26, 0.77, 0.0, 0.0, 0.0, 4.3, 0.0], 'Executed Instructions': [2060.0, 4001.0, 234493.0, 5021.0, 42.0, 62.0, 92.0, 234576.0, 9.0], 'Total Cycles': [1355.0, 6996.0, 172359.0, 2018.0, 55.0, 88.0, 226.0, 172393.0, 12.0], 'Instructions per Cycle': [1.52, 0.57, 1.36, 2.49, 0.76, 0.7, 0.41, 1.36, 0.75], 'Instructions per Second': [79239.91, 118586.8, 55010.71, 6540.21, 150000.0, 155388.47, 99137.93, 54574.63, 78947.37], 'Cycles spent Waiting for Memory Access': [1206.0, 0.0, 108824.0, 2.0, 32.0, 2.0, 4.0, 108896.0, 6.0], 'Proportion of Program spent Waiting for Memory Access': [0.89, 0.0, 0.63, 0.0, 0.58, 0.02, 0.02, 0.63, 0.5]}\n"
     ]
    }
   ],
   "source": [
    "\n",
    "## Get result directories\n",
    "programs = [x[0] for x in os.walk('.')]\n",
    "programs.remove('./.ipynb_checkpoints')\n",
    "programs.remove('.')\n",
    "programs = [x[2:] for x in programs]\n",
    "\n",
    "## Read results\n",
    "non_pipelined = {}\n",
    "pipelined     = {}\n",
    "superscalar   = {}\n",
    "\n",
    "def parse_processor_logs(filename, result_dict):\n",
    "    for p in programs:\n",
    "        file = open(p + filename, \"r\")\n",
    "        file.readline()\n",
    "        line = file.readline()\n",
    "        \n",
    "        while line[0] != '#':\n",
    "            split_line = line.split(',')\n",
    "            result_dict[split_line[0]] = split_line[1][:-1]\n",
    "            line = file.readline()\n",
    "\n",
    "        line = file.readline()\n",
    "        while line[0] != '#':\n",
    "            split_line = line.split(',')\n",
    "            if split_line[0] in result_dict:\n",
    "                result_dict[split_line[0]] = result_dict[split_line[0]] + [float(split_line[1][:-1])] \n",
    "            else:\n",
    "                result_dict[split_line[0]] = [float(split_line[1][:-1])]\n",
    "            line = file.readline()\n",
    "\n",
    "\n",
    "            \n",
    "            \n",
    "            \n",
    "parse_processor_logs(\"/non-pipelined.log\", non_pipelined)\n",
    "parse_processor_logs(\"/pipelined.log\", pipelined)\n",
    "parse_processor_logs(\"/superscalar.log\", superscalar)\n",
    "\n",
    "print(non_pipelined)\n",
    "print(pipelined)\n",
    "print(superscalar)"
   ]
  },
  {
   "cell_type": "markdown",
   "metadata": {},
   "source": [
    "### Produce graphs from simultator logs"
   ]
  },
  {
   "cell_type": "code",
   "execution_count": 36,
   "metadata": {},
   "outputs": [
    {
     "data": {
      "image/png": "[encoded data removed]",
      "text/plain": [
       "<Figure size 1152x576 with 1 Axes>"
      ]
     },
     "metadata": {
      "needs_background": "light"
     },
     "output_type": "display_data"
    }
   ],
   "source": [
    "fig = plt.figure(figsize=(16, 8))\n",
    "ax = fig.add_subplot(111)\n",
    "\n",
    "color = brewer2mpl.get_map('YlOrRd', 'Sequential', 5).mpl_colors\n",
    "\n",
    "# data to plot\n",
    "n_groups = len(programs)\n",
    "\n",
    "index = np.arange(n_groups)\n",
    "bar_width = 0.2\n",
    "opacity = 1.0\n",
    " \n",
    "rects1 = plt.bar(index, non_pipelined['Instructions per Cycle'], bar_width,\n",
    "                 alpha=opacity,color=color[3],label='Non Pipelined')\n",
    "rects2 = plt.bar(index+bar_width, pipelined['Instructions per Cycle'], bar_width,\n",
    "                 alpha=opacity,color=color[2],label='Pipelined')\n",
    "rects3 = plt.bar(index+2*bar_width, superscalar['Instructions per Cycle'], bar_width,\n",
    "                 alpha=opacity,color=color[1],label='Superscalar')\n",
    "\n",
    "ax.set_xlabel('Benchmarks', fontsize=16)\n",
    "ax.set_ylabel('Instructions per Cycle', fontsize=16)\n",
    "ax.set_title('Instructions per Cycle', fontsize=18)\n",
    "\n",
    "# plt.rc('text', usetex=True)\n",
    "# plt.rc('font', family='serif')\n",
    "\n",
    "plt.xticks(index + 0.33*bar_width, programs)\n",
    "\n",
    "ax.legend(fontsize=14)\n",
    "ggplot(ax)\n",
    "plt.savefig(\"pipelined_experiment.pdf\", bbox_inches = 'tight', pad_inches = 0)\n",
    "plt.show()"
   ]
  },
  {
   "cell_type": "code",
   "execution_count": null,
   "metadata": {},
   "outputs": [],
   "source": []
  }
 ],
 "metadata": {
  "kernelspec": {
   "display_name": "Python 3",
   "language": "python",
   "name": "python3"
  },
  "language_info": {
   "codemirror_mode": {
    "name": "ipython",
    "version": 3
   },
   "file_extension": ".py",
   "mimetype": "text/x-python",
   "name": "python",
   "nbconvert_exporter": "python",
   "pygments_lexer": "ipython3",
   "version": "3.7.4"
  }
 },
 "nbformat": 4,
 "nbformat_minor": 2
}
