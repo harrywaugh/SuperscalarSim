{
 "cells": [
  {
   "cell_type": "code",
   "execution_count": 5,
   "metadata": {},
   "outputs": [],
   "source": [
    "from matplotlib import pyplot as plt\n",
    "import numpy as np\n",
    "import matplotlib.pyplot as plt\n",
    "import matplotlib.cm as cm\n",
    "import matplotlib\n",
    "import brewer2mpl\n",
    "import os\n",
    "\n",
    "\n",
    "# from matplotlib import rc\n",
    "# rc('font',**{'family':'sans-serif','sans-serif':['Helvetica']})\n",
    "# rc('text', usetex=True)\n",
    "\n",
    "def remove_splines(ax, spl):\n",
    "    for s in spl:\n",
    "        ax.spines[s].set_visible(False)  \n",
    "\n",
    "def modify_splines(ax, lwd, col):    \n",
    "    for s in ['bottom', 'left','top','right']:\n",
    "        ax.spines[s].set_linewidth(lwd)\n",
    "        ax.spines[s].set_color(col)    \n",
    "\n",
    "def ggplot(ax):\n",
    "    \n",
    "    modify_splines(ax, lwd=0.75, col='0.8')\n",
    "    remove_splines(ax, ['top','right'])\n",
    "    \n",
    "    ax.patch.set_facecolor('0.93')\n",
    "    ax.yaxis.grid(True, 'major', color='0.98', linestyle='-', linewidth=1.0)\n",
    "    \n",
    "    ax.set_axisbelow(True)   \n",
    "    \n",
    "    \n",
    "def autolabel(rects):\n",
    "    \"\"\"\n",
    "    Attach a text label above each bar displaying its height\n",
    "    \"\"\"\n",
    "    for rect in rects:\n",
    "        height = rect.get_height()\n",
    "        \n",
    "        if (height != 0):\n",
    "            ax.text(rect.get_x() + rect.get_width()/2., 1.015*height,\n",
    "                    '%.1f' % float(height),\n",
    "                    ha='center', va='bottom', fontsize=12)"
   ]
  },
  {
   "cell_type": "code",
   "execution_count": 36,
   "metadata": {},
   "outputs": [
    {
     "name": "stdout",
     "output_type": "stream",
     "text": [
      "['bubble_sort', 'sum_n_natural', 'stencil', 'vector_add', 'factorial', 'gcd', 'addition']\n",
      "[0.33, 0.33, 0.33, 0.33, 0.33, 0.33, 0.33]\n",
      "[0.77, 0.7, 0.75, 0.78, 0.68, 0.47, 0.82]\n"
     ]
    },
    {
     "data": {
      "image/png": "[encoded data removed]",
      "text/plain": [
       "<Figure size 720x576 with 1 Axes>"
      ]
     },
     "metadata": {
      "needs_background": "light"
     },
     "output_type": "display_data"
    }
   ],
   "source": [
    "fig = plt.figure(figsize=(10, 8))\n",
    "ax = fig.add_subplot(111)\n",
    "\n",
    "color = brewer2mpl.get_map('YlOrRd', 'Sequential', 5).mpl_colors\n",
    "\n",
    "## Get result directories\n",
    "programs = [x[0] for x in os.walk('.')]\n",
    "programs.remove('./.ipynb_checkpoints')\n",
    "programs.remove('.')\n",
    "programs = [x[2:] for x in programs]\n",
    "\n",
    "## Read results\n",
    "non_pipelined_results = []\n",
    "pipelined_results     = []\n",
    "\n",
    "for p in programs:\n",
    "    file = open(p+\"/non-pipelined.log\", \"r\")\n",
    "    line_n = 0\n",
    "    for line in file:\n",
    "        if line_n == 4:\n",
    "            non_pipelined_results.append(float(line.split(' = ')[1]))\n",
    "        line_n+=1\n",
    "    file.close()\n",
    "    \n",
    "    file = open(p+\"/pipelined.log\", \"r\")\n",
    "    line_n = 0\n",
    "    for line in file:\n",
    "        if line_n == 4:\n",
    "            pipelined_results.append(float(line.split(' = ')[1]))\n",
    "        line_n+=1\n",
    "    file.close()\n",
    "        \n",
    "print(programs)\n",
    "print(non_pipelined_results)\n",
    "print(pipelined_results)\n",
    "\n",
    "\n",
    "# data to plot\n",
    "n_groups = len(programs)\n",
    "\n",
    "index = np.arange(n_groups)\n",
    "bar_width = 0.4\n",
    "opacity = 1.0\n",
    " \n",
    "rects1 = plt.bar(index, non_pipelined_results, bar_width,\n",
    "                 alpha=opacity,color=color[3],label='Non Pipelined')\n",
    "rects2 = plt.bar(index+bar_width, pipelined_results, bar_width,\n",
    "                 alpha=opacity,color=color[1],label='Pipelined')\n",
    "\n",
    "\n",
    "ax.set_xlabel('Benchmarks', fontsize=16)\n",
    "ax.set_ylabel('Instructions per Cycle', fontsize=16)\n",
    "ax.set_title('Non-Pipelined vs Pipelined Processor', fontsize=18)\n",
    "\n",
    "# plt.rc('text', usetex=True)\n",
    "# plt.rc('font', family='serif')\n",
    "\n",
    "plt.xticks(index + 0.5*bar_width, programs)\n",
    "\n",
    "ax.legend(fontsize=14)\n",
    "ggplot(ax)\n",
    "plt.savefig(\"pipelined_experiment.pdf\", bbox_inches = 'tight', pad_inches = 0)\n",
    "plt.show()"
   ]
  },
  {
   "cell_type": "code",
   "execution_count": null,
   "metadata": {},
   "outputs": [],
   "source": []
  }
 ],
 "metadata": {
  "kernelspec": {
   "display_name": "Python 3",
   "language": "python",
   "name": "python3"
  },
  "language_info": {
   "codemirror_mode": {
    "name": "ipython",
    "version": 3
   },
   "file_extension": ".py",
   "mimetype": "text/x-python",
   "name": "python",
   "nbconvert_exporter": "python",
   "pygments_lexer": "ipython3",
   "version": "3.7.4"
  }
 },
 "nbformat": 4,
 "nbformat_minor": 2
}
